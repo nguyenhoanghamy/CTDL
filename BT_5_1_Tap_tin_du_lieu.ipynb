{
  "cells": [
    {
      "cell_type": "markdown",
      "metadata": {
        "id": "view-in-github",
        "colab_type": "text"
      },
      "source": [
        "<a href=\"https://colab.research.google.com/github/nguyenhoanghamy/CTDL/blob/main/BT_5_1_Tap_tin_du_lieu.ipynb\" target=\"_parent\"><img src=\"https://colab.research.google.com/assets/colab-badge.svg\" alt=\"Open In Colab\"/></a>"
      ]
    },
    {
      "cell_type": "markdown",
      "metadata": {
        "id": "sP-gf9DiX8_p"
      },
      "source": [
        "# ĐỀ BÀI TẬP 5.1: **Xử lý tập tin**\n",
        "<u>Nội dung</u>:\n",
        "* Quan sát dữ liệu\n",
        "* Khai thác dữ liệu\n",
        "* Tổng hợp dữ liệu\n",
        "\n",
        "<u>Cập nhật</u>: **07/2023**\n",
        "\n",
        "\n",
        "\n",
        "\n",
        "\n",
        "\n"
      ]
    },
    {
      "cell_type": "markdown",
      "metadata": {
        "id": "b-Lk98gVsx2U"
      },
      "source": [
        "---\n",
        "### **MÔI TRƯỜNG TRIỂN KHAI ỨNG DỤNG**\n",
        "---"
      ]
    },
    {
      "cell_type": "code",
      "execution_count": 2,
      "metadata": {
        "id": "JwbUb88Rlrqk",
        "colab": {
          "base_uri": "https://localhost:8080/"
        },
        "outputId": "72403f23-41c0-485b-8fa1-ea9a80898446"
      },
      "outputs": [
        {
          "output_type": "stream",
          "name": "stdout",
          "text": [
            "Mounted at /content/gdrive\n"
          ]
        }
      ],
      "source": [
        "## Kết nối Google Drive\n",
        "from google.colab import drive\n",
        "drive.mount('/content/gdrive', force_remount = True)\n",
        "folder = 'https://drive.google.com/drive/u/0/folders/1GAc0qMzsSjwTNNqotb7ESpluQRXRaXkW?fbclid=IwAR3OspL6lWaxu0eRN_eJfwo_eXlB2HrdPpMcK0BDYsJYGnPutnCviUk0azw'"
      ]
    },
    {
      "cell_type": "code",
      "source": [
        "## Thư viện\n",
        "import numpy             as np\n",
        "import matplotlib.pyplot as plt\n",
        "import pandas            as pd\n",
        "import scipy.stats       as st\n",
        "import seaborn           as sns\n",
        "import warnings\n",
        "warnings.filterwarnings('ignore')"
      ],
      "metadata": {
        "id": "3zFH1RDQj32o"
      },
      "execution_count": 3,
      "outputs": []
    },
    {
      "cell_type": "markdown",
      "source": [
        "---\n",
        "### **1. Quan sát dữ liệu**\n",
        "---"
      ],
      "metadata": {
        "id": "Kqvm6uWgjwNl"
      }
    },
    {
      "cell_type": "code",
      "source": [
        "##------------------------------------------------------------------------------\n",
        "## Tái tạo đồ thị (nodes, edges) được lưu trữ trong tập tin graph.xls\n",
        "##------------------------------------------------------------------------------\n",
        "## Viết code:\n",
        "## Tạo list và array chứa các nodes\n",
        "\n",
        "\n",
        "## Tạo list, array và ma trận kề chứa các edges\n",
        "\n"
      ],
      "metadata": {
        "colab": {
          "base_uri": "https://localhost:8080/"
        },
        "id": "a7UoVOtaKs85",
        "outputId": "b118b1ce-818e-47ba-ab72-8765e97d16fa"
      },
      "execution_count": null,
      "outputs": [
        {
          "output_type": "stream",
          "name": "stdout",
          "text": [
            "Tổng cộng có 10 nodes:\n",
            "\tNode 0 (Mầu: black, Trọng số: 2.00)\n",
            "\tNode 1 (Mầu: orange, Trọng số: 6.00)\n",
            "\tNode 2 (Mầu: white, Trọng số: 2.01)\n",
            "\tNode 3 (Mầu: blue, Trọng số: 1.00)\n",
            "\tNode 4 (Mầu: pink, Trọng số: -1.00)\n",
            "\tNode 5 (Mầu: red, Trọng số: 3.00)\n",
            "\tNode 6 (Mầu: violet, Trọng số: 2.52)\n",
            "\tNode 7 (Mầu: green, Trọng số: 0.21)\n",
            "\tNode 8 (Mầu: yellow, Trọng số: -3.20)\n",
            "\tNode 9 (Mầu: cyan, Trọng số: 0.00)\n",
            "\n",
            "Tổng cộng có 7 edges:\n",
            "\tEdge 0 (Node 0 --> Node 2,  Trọng số: 2.00)\n",
            "\tEdge 1 (Node 2 --> Node 3,  Trọng số: 3.02)\n",
            "\tEdge 2 (Node 3 --> Node 0,  Trọng số: 2.09)\n",
            "\tEdge 3 (Node 1 --> Node 4,  Trọng số: 2.00)\n",
            "\tEdge 4 (Node 5 --> Node 6,  Trọng số: 0.00)\n",
            "\tEdge 5 (Node 7 --> Node 9,  Trọng số: 1.00)\n",
            "\tEdge 6 (Node 8 --> Node 0,  Trọng số: 1.30)\n",
            "\n",
            " [[0.   0.   2.   2.09 0.   0.   0.   0.   1.3  0.  ]\n",
            " [0.   0.   0.   0.   2.   0.   0.   0.   0.   0.  ]\n",
            " [2.   0.   0.   3.02 0.   0.   0.   0.   0.   0.  ]\n",
            " [2.09 0.   3.02 0.   0.   0.   0.   0.   0.   0.  ]\n",
            " [0.   2.   0.   0.   0.   0.   0.   0.   0.   0.  ]\n",
            " [0.   0.   0.   0.   0.   0.   0.   0.   0.   0.  ]\n",
            " [0.   0.   0.   0.   0.   0.   0.   0.   0.   0.  ]\n",
            " [0.   0.   0.   0.   0.   0.   0.   0.   0.   1.  ]\n",
            " [1.3  0.   0.   0.   0.   0.   0.   0.   0.   0.  ]\n",
            " [0.   0.   0.   0.   0.   0.   0.   1.   0.   0.  ]]\n"
          ]
        }
      ]
    },
    {
      "cell_type": "code",
      "source": [
        "##------------------------------------------------------------------------------\n",
        "## Mở và quan sát tập tin Excel: house_prices_dirty.csv\n",
        "##------------------------------------------------------------------------------\n",
        "## Viết code:\n",
        "\n"
      ],
      "metadata": {
        "colab": {
          "base_uri": "https://localhost:8080/"
        },
        "id": "MVJ4l241j3zn",
        "outputId": "b1c82c51-b95c-4069-a501-199f7fa69249"
      },
      "execution_count": null,
      "outputs": [
        {
          "output_type": "stream",
          "name": "stdout",
          "text": [
            "<class 'pandas.core.frame.DataFrame'>\n",
            "RangeIndex: 1460 entries, 0 to 1459\n",
            "Data columns (total 81 columns):\n",
            " #   Column         Non-Null Count  Dtype  \n",
            "---  ------         --------------  -----  \n",
            " 0   Id             1460 non-null   int64  \n",
            " 1   MSSubClass     1460 non-null   int64  \n",
            " 2   MSZoning       1460 non-null   object \n",
            " 3   LotFrontage    1201 non-null   float64\n",
            " 4   LotArea        1460 non-null   int64  \n",
            " 5   Street         1460 non-null   object \n",
            " 6   Alley          91 non-null     object \n",
            " 7   LotShape       1460 non-null   object \n",
            " 8   LandContour    1460 non-null   object \n",
            " 9   Utilities      1460 non-null   object \n",
            " 10  LotConfig      1460 non-null   object \n",
            " 11  LandSlope      1460 non-null   object \n",
            " 12  Neighborhood   1460 non-null   object \n",
            " 13  Condition1     1460 non-null   object \n",
            " 14  Condition2     1460 non-null   object \n",
            " 15  BldgType       1460 non-null   object \n",
            " 16  HouseStyle     1460 non-null   object \n",
            " 17  OverallQual    1460 non-null   int64  \n",
            " 18  OverallCond    1460 non-null   int64  \n",
            " 19  YearBuilt      1460 non-null   int64  \n",
            " 20  YearRemodAdd   1460 non-null   int64  \n",
            " 21  RoofStyle      1460 non-null   object \n",
            " 22  RoofMatl       1460 non-null   object \n",
            " 23  Exterior1st    1460 non-null   object \n",
            " 24  Exterior2nd    1460 non-null   object \n",
            " 25  MasVnrType     1452 non-null   object \n",
            " 26  MasVnrArea     1452 non-null   float64\n",
            " 27  ExterQual      1460 non-null   object \n",
            " 28  ExterCond      1460 non-null   object \n",
            " 29  Foundation     1460 non-null   object \n",
            " 30  BsmtQual       1423 non-null   object \n",
            " 31  BsmtCond       1423 non-null   object \n",
            " 32  BsmtExposure   1422 non-null   object \n",
            " 33  BsmtFinType1   1423 non-null   object \n",
            " 34  BsmtFinSF1     1460 non-null   int64  \n",
            " 35  BsmtFinType2   1422 non-null   object \n",
            " 36  BsmtFinSF2     1460 non-null   int64  \n",
            " 37  BsmtUnfSF      1460 non-null   int64  \n",
            " 38  TotalBsmtSF    1460 non-null   int64  \n",
            " 39  Heating        1460 non-null   object \n",
            " 40  HeatingQC      1460 non-null   object \n",
            " 41  CentralAir     1460 non-null   object \n",
            " 42  Electrical     1459 non-null   object \n",
            " 43  1stFlrSF       1460 non-null   int64  \n",
            " 44  2ndFlrSF       1460 non-null   int64  \n",
            " 45  LowQualFinSF   1460 non-null   int64  \n",
            " 46  GrLivArea      1460 non-null   int64  \n",
            " 47  BsmtFullBath   1460 non-null   int64  \n",
            " 48  BsmtHalfBath   1460 non-null   int64  \n",
            " 49  FullBath       1460 non-null   int64  \n",
            " 50  HalfBath       1460 non-null   int64  \n",
            " 51  BedroomAbvGr   1460 non-null   int64  \n",
            " 52  KitchenAbvGr   1460 non-null   int64  \n",
            " 53  KitchenQual    1460 non-null   object \n",
            " 54  TotRmsAbvGrd   1460 non-null   int64  \n",
            " 55  Functional     1460 non-null   object \n",
            " 56  Fireplaces     1460 non-null   int64  \n",
            " 57  FireplaceQu    770 non-null    object \n",
            " 58  GarageType     1379 non-null   object \n",
            " 59  GarageYrBlt    1379 non-null   float64\n",
            " 60  GarageFinish   1379 non-null   object \n",
            " 61  GarageCars     1460 non-null   int64  \n",
            " 62  GarageArea     1460 non-null   int64  \n",
            " 63  GarageQual     1379 non-null   object \n",
            " 64  GarageCond     1379 non-null   object \n",
            " 65  PavedDrive     1460 non-null   object \n",
            " 66  WoodDeckSF     1460 non-null   int64  \n",
            " 67  OpenPorchSF    1460 non-null   int64  \n",
            " 68  EnclosedPorch  1460 non-null   int64  \n",
            " 69  3SsnPorch      1460 non-null   int64  \n",
            " 70  ScreenPorch    1460 non-null   int64  \n",
            " 71  PoolArea       1460 non-null   int64  \n",
            " 72  PoolQC         7 non-null      object \n",
            " 73  Fence          281 non-null    object \n",
            " 74  MiscFeature    54 non-null     object \n",
            " 75  MiscVal        1460 non-null   int64  \n",
            " 76  MoSold         1460 non-null   int64  \n",
            " 77  YrSold         1460 non-null   int64  \n",
            " 78  SaleType       1460 non-null   object \n",
            " 79  SaleCondition  1460 non-null   object \n",
            " 80  SalePrice      1460 non-null   int64  \n",
            "dtypes: float64(3), int64(35), object(43)\n",
            "memory usage: 924.0+ KB\n",
            "None \n",
            "----------\n"
          ]
        }
      ]
    },
    {
      "cell_type": "code",
      "source": [
        "##------------------------------------------------------------------------------\n",
        "## Quan sát các columns: numerical (continuous), categorical\n",
        "##------------------------------------------------------------------------------\n",
        "## Viết code:\n",
        "## Liệt kê các columns có kiểu NUMERICAL\n",
        "\n",
        "\n",
        "## Liệt kê các columns có kiểu CATEGORICAL\n",
        "\n"
      ],
      "metadata": {
        "colab": {
          "base_uri": "https://localhost:8080/"
        },
        "id": "3tcLzM1GtlzF",
        "outputId": "127d0e34-09a7-4304-8a58-e4da6beb6a25"
      },
      "execution_count": null,
      "outputs": [
        {
          "output_type": "stream",
          "name": "stdout",
          "text": [
            "Numerical columns: ['MSSubClass', 'LotFrontage', 'LotArea', 'OverallQual', 'OverallCond', 'YearBuilt', 'YearRemodAdd', 'MasVnrArea', 'BsmtFinSF1', 'BsmtFinSF2', 'BsmtUnfSF', 'TotalBsmtSF', '1stFlrSF', '2ndFlrSF', 'LowQualFinSF', 'GrLivArea', 'BsmtFullBath', 'BsmtHalfBath', 'FullBath', 'HalfBath', 'BedroomAbvGr', 'KitchenAbvGr', 'TotRmsAbvGrd', 'Fireplaces', 'GarageYrBlt', 'GarageCars', 'GarageArea', 'WoodDeckSF', 'OpenPorchSF', 'EnclosedPorch', '3SsnPorch', 'ScreenPorch', 'PoolArea', 'MiscVal', 'MoSold', 'YrSold', 'SalePrice'] \n",
            "\n",
            "Categorical columns:\n",
            "1 ) MSZoning \t\t( 5 values ): ['RL' 'RM' 'C (all)' 'FV' 'RH']\n",
            "2 ) Street \t\t( 2 values ): ['Pave' 'Grvl']\n",
            "3 ) Alley \t\t( 3 values ): [nan 'Grvl' 'Pave']\n",
            "4 ) LotShape \t\t( 4 values ): ['Reg' 'IR1' 'IR2' 'IR3']\n",
            "5 ) LandContour \t\t( 4 values ): ['Lvl' 'Bnk' 'Low' 'HLS']\n",
            "6 ) Utilities \t\t( 2 values ): ['AllPub' 'NoSeWa']\n",
            "7 ) LotConfig \t\t( 5 values ): ['Inside' 'FR2' 'Corner' 'CulDSac' 'FR3']\n",
            "8 ) LandSlope \t\t( 3 values ): ['Gtl' 'Mod' 'Sev']\n",
            "9 ) Neighborhood \t\t( 25 values ): ['CollgCr' 'Veenker' 'Crawfor' 'NoRidge' 'Mitchel' 'Somerst' 'NWAmes'\n",
            " 'OldTown' 'BrkSide' 'Sawyer' 'NridgHt' 'NAmes' 'SawyerW' 'IDOTRR'\n",
            " 'MeadowV' 'Edwards' 'Timber' 'Gilbert' 'StoneBr' 'ClearCr' 'NPkVill'\n",
            " 'Blmngtn' 'BrDale' 'SWISU' 'Blueste']\n",
            "10 ) Condition1 \t\t( 9 values ): ['Norm' 'Feedr' 'PosN' 'Artery' 'RRAe' 'RRNn' 'RRAn' 'PosA' 'RRNe']\n",
            "11 ) Condition2 \t\t( 8 values ): ['Norm' 'Artery' 'RRNn' 'Feedr' 'PosN' 'PosA' 'RRAn' 'RRAe']\n",
            "12 ) BldgType \t\t( 5 values ): ['1Fam' '2fmCon' 'Duplex' 'TwnhsE' 'Twnhs']\n",
            "13 ) HouseStyle \t\t( 8 values ): ['2Story' '1Story' '1.5Fin' '1.5Unf' 'SFoyer' 'SLvl' '2.5Unf' '2.5Fin']\n",
            "14 ) RoofStyle \t\t( 6 values ): ['Gable' 'Hip' 'Gambrel' 'Mansard' 'Flat' 'Shed']\n",
            "15 ) RoofMatl \t\t( 8 values ): ['CompShg' 'WdShngl' 'Metal' 'WdShake' 'Membran' 'Tar&Grv' 'Roll'\n",
            " 'ClyTile']\n",
            "16 ) Exterior1st \t\t( 15 values ): ['VinylSd' 'MetalSd' 'Wd Sdng' 'HdBoard' 'BrkFace' 'WdShing' 'CemntBd'\n",
            " 'Plywood' 'AsbShng' 'Stucco' 'BrkComm' 'AsphShn' 'Stone' 'ImStucc'\n",
            " 'CBlock']\n",
            "17 ) Exterior2nd \t\t( 16 values ): ['VinylSd' 'MetalSd' 'Wd Shng' 'HdBoard' 'Plywood' 'Wd Sdng' 'CmentBd'\n",
            " 'BrkFace' 'Stucco' 'AsbShng' 'Brk Cmn' 'ImStucc' 'AsphShn' 'Stone'\n",
            " 'Other' 'CBlock']\n",
            "18 ) MasVnrType \t\t( 5 values ): ['BrkFace' 'None' 'Stone' 'BrkCmn' nan]\n",
            "19 ) ExterQual \t\t( 4 values ): ['Gd' 'TA' 'Ex' 'Fa']\n",
            "20 ) ExterCond \t\t( 5 values ): ['TA' 'Gd' 'Fa' 'Po' 'Ex']\n",
            "21 ) Foundation \t\t( 6 values ): ['PConc' 'CBlock' 'BrkTil' 'Wood' 'Slab' 'Stone']\n",
            "22 ) BsmtQual \t\t( 5 values ): ['Gd' 'TA' 'Ex' nan 'Fa']\n",
            "23 ) BsmtCond \t\t( 5 values ): ['TA' 'Gd' nan 'Fa' 'Po']\n",
            "24 ) BsmtExposure \t\t( 5 values ): ['No' 'Gd' 'Mn' 'Av' nan]\n",
            "25 ) BsmtFinType1 \t\t( 7 values ): ['GLQ' 'ALQ' 'Unf' 'Rec' 'BLQ' nan 'LwQ']\n",
            "26 ) BsmtFinType2 \t\t( 7 values ): ['Unf' 'BLQ' nan 'ALQ' 'Rec' 'LwQ' 'GLQ']\n",
            "27 ) Heating \t\t( 6 values ): ['GasA' 'GasW' 'Grav' 'Wall' 'OthW' 'Floor']\n",
            "28 ) HeatingQC \t\t( 5 values ): ['Ex' 'Gd' 'TA' 'Fa' 'Po']\n",
            "29 ) CentralAir \t\t( 2 values ): ['Y' 'N']\n",
            "30 ) Electrical \t\t( 6 values ): ['SBrkr' 'FuseF' 'FuseA' 'FuseP' 'Mix' nan]\n",
            "31 ) KitchenQual \t\t( 4 values ): ['Gd' 'TA' 'Ex' 'Fa']\n",
            "32 ) Functional \t\t( 7 values ): ['Typ' 'Min1' 'Maj1' 'Min2' 'Mod' 'Maj2' 'Sev']\n",
            "33 ) FireplaceQu \t\t( 6 values ): [nan 'TA' 'Gd' 'Fa' 'Ex' 'Po']\n",
            "34 ) GarageType \t\t( 7 values ): ['Attchd' 'Detchd' 'BuiltIn' 'CarPort' nan 'Basment' '2Types']\n",
            "35 ) GarageFinish \t\t( 4 values ): ['RFn' 'Unf' 'Fin' nan]\n",
            "36 ) GarageQual \t\t( 6 values ): ['TA' 'Fa' 'Gd' nan 'Ex' 'Po']\n",
            "37 ) GarageCond \t\t( 6 values ): ['TA' 'Fa' nan 'Gd' 'Po' 'Ex']\n",
            "38 ) PavedDrive \t\t( 3 values ): ['Y' 'N' 'P']\n",
            "39 ) PoolQC \t\t( 4 values ): [nan 'Ex' 'Fa' 'Gd']\n",
            "40 ) Fence \t\t( 5 values ): [nan 'MnPrv' 'GdWo' 'GdPrv' 'MnWw']\n",
            "41 ) MiscFeature \t\t( 5 values ): [nan 'Shed' 'Gar2' 'Othr' 'TenC']\n",
            "42 ) SaleType \t\t( 9 values ): ['WD' 'New' 'COD' 'ConLD' 'ConLI' 'CWD' 'ConLw' 'Con' 'Oth']\n",
            "43 ) SaleCondition \t\t( 6 values ): ['Normal' 'Abnorml' 'Partial' 'AdjLand' 'Alloca' 'Family']\n"
          ]
        }
      ]
    },
    {
      "cell_type": "markdown",
      "source": [
        "---\n",
        "### **2. Khai thác dữ liệu**\n",
        "---"
      ],
      "metadata": {
        "id": "05QVZslvcv_t"
      }
    },
    {
      "cell_type": "code",
      "source": [
        "##------------------------------------------------------------------------------\n",
        "## Mở tập tin dữ liệu MovieLens100K.xlsx, sheet_name = 'Movies'\n",
        "##------------------------------------------------------------------------------\n",
        "## Viết code:\n",
        "\n",
        "\n",
        "## Xử lý NaN\n",
        "\n"
      ],
      "metadata": {
        "id": "BpA1Ei1zc2WV",
        "colab": {
          "base_uri": "https://localhost:8080/"
        },
        "outputId": "46b43de8-8fea-4efc-86c7-4f7a3ba68c97"
      },
      "execution_count": null,
      "outputs": [
        {
          "output_type": "stream",
          "name": "stdout",
          "text": [
            "a) Dữ liệu MOVIES:\n",
            "<class 'pandas.core.frame.DataFrame'>\n",
            "RangeIndex: 9125 entries, 0 to 9124\n",
            "Data columns (total 3 columns):\n",
            " #   Column   Non-Null Count  Dtype \n",
            "---  ------   --------------  ----- \n",
            " 0   movieId  9125 non-null   int64 \n",
            " 1   title    9125 non-null   object\n",
            " 2   genres   9124 non-null   object\n",
            "dtypes: int64(1), object(2)\n",
            "memory usage: 214.0+ KB\n",
            "None\n",
            "genres    1\n",
            "dtype: int64\n"
          ]
        }
      ]
    },
    {
      "cell_type": "code",
      "source": [
        "##------------------------------------------------------------------------------\n",
        "## Mở tập tin dữ liệu MovieLens100K.xlsx, sheet_name = 'Ratings'\n",
        "##------------------------------------------------------------------------------\n",
        "## Viết code:\n",
        "\n",
        "\n",
        "## Xử lý NaN\n",
        "\n",
        "\n",
        "## Xử lý những giá trị bị sai (rating > 5, rating < 0)\n",
        "\n"
      ],
      "metadata": {
        "colab": {
          "base_uri": "https://localhost:8080/"
        },
        "id": "1Y4_eQxCCj13",
        "outputId": "6a26690e-7af8-4708-90d5-b228216dbd05"
      },
      "execution_count": null,
      "outputs": [
        {
          "output_type": "stream",
          "name": "stdout",
          "text": [
            "b) Dữ liệu RATINGS:\n",
            "<class 'pandas.core.frame.DataFrame'>\n",
            "RangeIndex: 100004 entries, 0 to 100003\n",
            "Data columns (total 4 columns):\n",
            " #   Column     Non-Null Count   Dtype  \n",
            "---  ------     --------------   -----  \n",
            " 0   userId     100004 non-null  int64  \n",
            " 1   movieId    100004 non-null  int64  \n",
            " 2   rating     100004 non-null  float64\n",
            " 3   timestamp  100004 non-null  int64  \n",
            "dtypes: float64(1), int64(3)\n",
            "memory usage: 3.1 MB\n",
            "None\n",
            "userId     False\n",
            "movieId    False\n",
            "rating     False\n",
            "dtype: bool\n",
            "    userId  movieId  rating\n",
            "56       2      350     6.0\n",
            "    userId  movieId  rating\n",
            "56       2      350     4.0\n"
          ]
        }
      ]
    },
    {
      "cell_type": "code",
      "source": [
        "##------------------------------------------------------------------------------\n",
        "## Phép kết RATINGS và MOVIES\n",
        "##------------------------------------------------------------------------------\n",
        "## Viết code: Sử dụng Pandas.merge(df1, df2, how = 'inner')\n",
        "\n"
      ],
      "metadata": {
        "colab": {
          "base_uri": "https://localhost:8080/"
        },
        "id": "FwU3DJgQE4Q7",
        "outputId": "61e77c2a-0a4c-4902-9f21-966c69ed3669"
      },
      "execution_count": null,
      "outputs": [
        {
          "output_type": "stream",
          "name": "stdout",
          "text": [
            "c) Phép kết tự nhiên MOVIES x RATINGS:\n",
            "<class 'pandas.core.frame.DataFrame'>\n",
            "Int64Index: 99984 entries, 0 to 99983\n",
            "Data columns (total 5 columns):\n",
            " #   Column   Non-Null Count  Dtype  \n",
            "---  ------   --------------  -----  \n",
            " 0   userId   99984 non-null  int64  \n",
            " 1   movieId  99984 non-null  int64  \n",
            " 2   rating   99984 non-null  float64\n",
            " 3   title    99984 non-null  object \n",
            " 4   genres   99984 non-null  object \n",
            "dtypes: float64(1), int64(2), object(2)\n",
            "memory usage: 4.6+ MB\n",
            "None\n",
            "   userId  movieId  rating                   title genres\n",
            "0       1       31     2.5  Dangerous Minds (1995)  Drama\n",
            "1       7       31     3.0  Dangerous Minds (1995)  Drama\n",
            "2      31       31     4.0  Dangerous Minds (1995)  Drama\n",
            "3      32       31     4.0  Dangerous Minds (1995)  Drama\n",
            "4      36       31     3.0  Dangerous Minds (1995)  Drama\n"
          ]
        }
      ]
    },
    {
      "cell_type": "code",
      "source": [
        "##------------------------------------------------------------------------------\n",
        "## Sử dụng các phương thức của Series.str\n",
        "##    - contains()\n",
        "##    - startswith(), endswith()\n",
        "##------------------------------------------------------------------------------\n",
        "## Viết code:\n",
        "## Hiển thị đánh giá của những bộ phim có tên chứa từ American\n",
        "\n",
        "\n",
        "## Hiển thị đánh giá của những bộ phim có tên bắt đầu bằng từ American\n",
        "\n",
        "\n",
        "## Hiển thị những bộ phim thuộc thể loại Comedy\n",
        "\n",
        "\n",
        "## Hiển thị những bộ phim CHỈ thuộc thể loại Comedy\n",
        "\n",
        "\n",
        "## Hiển thị đánh giá của những bộ phim sản xuất năm 2000\n",
        "## Năm sx đặt trong cặp () ở cuối tên film (title)\n",
        "\n"
      ],
      "metadata": {
        "colab": {
          "base_uri": "https://localhost:8080/"
        },
        "id": "a28isMn5f_dw",
        "outputId": "f382397e-ba5f-4ce1-8f20-9e8e78aee4e5"
      },
      "execution_count": null,
      "outputs": [
        {
          "output_type": "stream",
          "name": "stdout",
          "text": [
            "       userId                   title  rating\n",
            "11460       3  American Beauty (1999)     4.0\n",
            "11461       8  American Beauty (1999)     4.5\n",
            "11462      15  American Beauty (1999)     4.0\n",
            "11463      16  American Beauty (1999)     4.0\n",
            "11464      17  American Beauty (1999)     4.5\n",
            "       userId                   title  rating\n",
            "11460       3  American Beauty (1999)     4.0\n",
            "11461       8  American Beauty (1999)     4.5\n",
            "11462      15  American Beauty (1999)     4.0\n",
            "11463      16  American Beauty (1999)     4.0\n",
            "11464      17  American Beauty (1999)     4.5\n",
            "     userId  movieId  rating                                   title  \\\n",
            "489       1     1405     1.0  Beavis and Butt-Head Do America (1996)   \n",
            "490       7     1405     5.0  Beavis and Butt-Head Do America (1996)   \n",
            "491      15     1405     3.0  Beavis and Butt-Head Do America (1996)   \n",
            "492      19     1405     3.0  Beavis and Butt-Head Do America (1996)   \n",
            "493      25     1405     3.0  Beavis and Butt-Head Do America (1996)   \n",
            "\n",
            "                               genres  \n",
            "489  Adventure,Animation,Comedy,Crime  \n",
            "490  Adventure,Animation,Comedy,Crime  \n",
            "491  Adventure,Animation,Comedy,Crime  \n",
            "492  Adventure,Animation,Comedy,Crime  \n",
            "493  Adventure,Animation,Comedy,Crime  \n",
            "    movieId                                  title  genres\n",
            "4         5     Father of the Bride Part II (1995)  Comedy\n",
            "17       18                      Four Rooms (1995)  Comedy\n",
            "18       19  Ace Ventura: When Nature Calls (1995)  Comedy\n",
            "61       65                        Bio-Dome (1996)  Comedy\n",
            "64       69                          Friday (1995)  Comedy\n",
            "       userId             title  rating\n",
            "11890       3  Frequency (2000)     4.0\n",
            "11891      15  Frequency (2000)     2.0\n",
            "11892      23  Frequency (2000)     3.5\n",
            "11893      43  Frequency (2000)     4.0\n",
            "11894      51  Frequency (2000)     5.0\n"
          ]
        }
      ]
    },
    {
      "cell_type": "code",
      "source": [
        "##------------------------------------------------------------------------------\n",
        "## Rút trích thông tin năm sản xuất phim để tách thành cột riêng (year)\n",
        "##------------------------------------------------------------------------------\n",
        "## Viết code:\n",
        "\n"
      ],
      "metadata": {
        "id": "94z2750SJ2_G"
      },
      "execution_count": null,
      "outputs": []
    },
    {
      "cell_type": "code",
      "source": [
        "##------------------------------------------------------------------------------\n",
        "## Hiển thị đánh giá của những bộ phim sản xuất sau năm 2000\n",
        "##------------------------------------------------------------------------------\n",
        "## Viết code:\n",
        "\n"
      ],
      "metadata": {
        "colab": {
          "base_uri": "https://localhost:8080/"
        },
        "id": "ewYYWNG52Mpc",
        "outputId": "50930a6c-a12f-4457-fd23-d3a765ea36cc"
      },
      "execution_count": null,
      "outputs": [
        {
          "output_type": "stream",
          "name": "stdout",
          "text": [
            "       userId  movieId                       title  year\n",
            "11890       3     3510            Frequency (2000)  2000\n",
            "11891      15     3510            Frequency (2000)  2000\n",
            "11892      23     3510            Frequency (2000)  2000\n",
            "11893      43     3510            Frequency (2000)  2000\n",
            "11894      51     3510            Frequency (2000)  2000\n",
            "...       ...      ...                         ...   ...\n",
            "11985     528     3949  Requiem for a Dream (2000)  2000\n",
            "11986     544     3949  Requiem for a Dream (2000)  2000\n",
            "11987     547     3949  Requiem for a Dream (2000)  2000\n",
            "11988     558     3949  Requiem for a Dream (2000)  2000\n",
            "11989     560     3949  Requiem for a Dream (2000)  2000\n",
            "\n",
            "[100 rows x 4 columns]\n"
          ]
        }
      ]
    },
    {
      "cell_type": "code",
      "source": [
        "##------------------------------------------------------------------------------\n",
        "## Hiển thị đánh giá của hai bộ phim: 'Heat (1995)', 'Titanic (1997)'\n",
        "##------------------------------------------------------------------------------\n",
        "## Viết code:\n",
        "\n"
      ],
      "metadata": {
        "colab": {
          "base_uri": "https://localhost:8080/"
        },
        "id": "xUiVBrM4sb7s",
        "outputId": "968969d3-a187-45df-cd76-9ec8e99da92f"
      },
      "execution_count": null,
      "outputs": [
        {
          "output_type": "stream",
          "name": "stdout",
          "text": [
            "       userId  movieId  rating           title         genres  year\n",
            "10608       3     1721     4.5  Titanic (1997)  Drama,Romance  1997\n",
            "10609       5     1721     4.0  Titanic (1997)  Drama,Romance  1997\n",
            "10610       9     1721     3.0  Titanic (1997)  Drama,Romance  1997\n",
            "10611      14     1721     3.0  Titanic (1997)  Drama,Romance  1997\n",
            "10612      15     1721     1.5  Titanic (1997)  Drama,Romance  1997\n"
          ]
        }
      ]
    },
    {
      "cell_type": "code",
      "source": [
        "##------------------------------------------------------------------------------\n",
        "## Hiển thị những bộ phim được đánh giá 5*\n",
        "##------------------------------------------------------------------------------\n",
        "## Viết code:\n",
        "\n",
        "\n",
        "## Chỉ hiển thị tên phim (title) --> trùng lắp\n",
        "\n",
        "\n",
        "## Hiển thị số dòng không trùng lắp\n",
        "\n"
      ],
      "metadata": {
        "colab": {
          "base_uri": "https://localhost:8080/"
        },
        "id": "UOZkeze3e0bH",
        "outputId": "6927e1af-3270-4160-8534-54e2cfb18403"
      },
      "execution_count": null,
      "outputs": [
        {
          "output_type": "stream",
          "name": "stdout",
          "text": [
            "       userId  movieId  rating  \\\n",
            "30        487       31     5.0   \n",
            "43         19     1029     5.0   \n",
            "48        102     1029     5.0   \n",
            "52        188     1029     5.0   \n",
            "60        387     1029     5.0   \n",
            "...       ...      ...     ...   \n",
            "99976     652   142240     5.0   \n",
            "99980     652   147037     5.0   \n",
            "99987     656     1692     5.0   \n",
            "99988     656     3845     5.0   \n",
            "99989     656     3909     5.0   \n",
            "\n",
            "                                                   title  \\\n",
            "30                                Dangerous Minds (1995)   \n",
            "43                                          Dumbo (1941)   \n",
            "48                                          Dumbo (1941)   \n",
            "52                                          Dumbo (1941)   \n",
            "60                                          Dumbo (1941)   \n",
            "...                                                  ...   \n",
            "99976                                      Romeos (2011)   \n",
            "99980                             Straight-Jacket (2004)   \n",
            "99987                                Alien Escape (1995)   \n",
            "99988  And God Created Woman (Et Dieu... crÃ©a la fem...   \n",
            "99989                                Woman on Top (2000)   \n",
            "\n",
            "                                 genres  year  \n",
            "30                                Drama  1995  \n",
            "43     Animation,Children,Drama,Musical  1941  \n",
            "48     Animation,Children,Drama,Musical  1941  \n",
            "52     Animation,Children,Drama,Musical  1941  \n",
            "60     Animation,Children,Drama,Musical  1941  \n",
            "...                                 ...   ...  \n",
            "99976                             Drama  2011  \n",
            "99980                            Comedy  2004  \n",
            "99987                      Horror,SciFi  1995  \n",
            "99988                             Drama  1956  \n",
            "99989                    Comedy,Romance  2000  \n",
            "\n",
            "[15094 rows x 6 columns]\n",
            "15094\n",
            "Số dòng không trùng lắp: 3126\n"
          ]
        }
      ]
    },
    {
      "cell_type": "code",
      "source": [
        "##------------------------------------------------------------------------------\n",
        "## Hiển thị những bộ phim loại Comedy và được đánh giá 5*\n",
        "##------------------------------------------------------------------------------\n",
        "## Viết code:\n",
        "\n"
      ],
      "metadata": {
        "colab": {
          "base_uri": "https://localhost:8080/"
        },
        "id": "vcG_prblttwQ",
        "outputId": "275f29d2-4795-4dde-e73f-bfe53c42db3f"
      },
      "execution_count": null,
      "outputs": [
        {
          "output_type": "stream",
          "name": "stdout",
          "text": [
            "490      Beavis and Butt-Head Do America (1996)\n",
            "637              Gods Must Be Crazy, The (1980)\n",
            "722                                 Antz (1998)\n",
            "807                         Time Bandits (1981)\n",
            "866                      Blazing Saddles (1974)\n",
            "                          ...                  \n",
            "99968             Long-Term Relationship (2006)\n",
            "99970                The Big Gay Musical (2009)\n",
            "99971                    The Biggest Fan (2002)\n",
            "99980                    Straight-Jacket (2004)\n",
            "99989                       Woman on Top (2000)\n",
            "Name: title, Length: 1104, dtype: object\n"
          ]
        }
      ]
    },
    {
      "cell_type": "markdown",
      "source": [
        "---\n",
        "### **3. Tổng hợp dữ liệu**\n",
        "---"
      ],
      "metadata": {
        "id": "SdJ3EsGOl7RR"
      }
    },
    {
      "cell_type": "code",
      "source": [
        "##------------------------------------------------------------------------------\n",
        "## Mở sheet Drinks trong Data.xls\n",
        "##------------------------------------------------------------------------------\n",
        "## Viết code:\n",
        "\n",
        "\n",
        "## Xử lý NaN\n",
        "\n"
      ],
      "metadata": {
        "id": "nP2skxLXh0qf",
        "colab": {
          "base_uri": "https://localhost:8080/"
        },
        "outputId": "b96c4402-6811-45e4-ea0e-bb9ac9dd7b9a"
      },
      "execution_count": null,
      "outputs": [
        {
          "output_type": "stream",
          "name": "stdout",
          "text": [
            "<class 'pandas.core.frame.DataFrame'>\n",
            "RangeIndex: 193 entries, 0 to 192\n",
            "Data columns (total 7 columns):\n",
            " #   Column                        Non-Null Count  Dtype  \n",
            "---  ------                        --------------  -----  \n",
            " 0   Unnamed: 0                    193 non-null    int64  \n",
            " 1   country                       193 non-null    object \n",
            " 2   beer_servings                 193 non-null    int64  \n",
            " 3   spirit_servings               193 non-null    int64  \n",
            " 4   wine_servings                 193 non-null    int64  \n",
            " 5   total_litres_of_pure_alcohol  193 non-null    float64\n",
            " 6   continent                     170 non-null    object \n",
            "dtypes: float64(1), int64(4), object(2)\n",
            "memory usage: 10.7+ KB\n",
            "None\n",
            "Unnamed: 0                      False\n",
            "country                         False\n",
            "beer_servings                   False\n",
            "spirit_servings                 False\n",
            "wine_servings                   False\n",
            "total_litres_of_pure_alcohol    False\n",
            "continent                        True\n",
            "dtype: bool\n"
          ]
        }
      ]
    },
    {
      "cell_type": "code",
      "source": [
        "##------------------------------------------------------------------------------\n",
        "## Hiển thị số quốc gia trong MỖI châu lục\n",
        "##------------------------------------------------------------------------------\n",
        "## Viết code:\n",
        "\n"
      ],
      "metadata": {
        "colab": {
          "base_uri": "https://localhost:8080/"
        },
        "id": "Z9XC-i8sr380",
        "outputId": "02f68023-8a1c-4b43-ca15-1c2946fd09cc"
      },
      "execution_count": null,
      "outputs": [
        {
          "output_type": "stream",
          "name": "stdout",
          "text": [
            "continent\n",
            "AF    53\n",
            "AS    44\n",
            "EU    45\n",
            "OC    16\n",
            "SA    12\n",
            "Name: country, dtype: int64\n"
          ]
        }
      ]
    },
    {
      "cell_type": "code",
      "source": [
        "##------------------------------------------------------------------------------\n",
        "## Hiển thị mức tiêu thụ BIA trung bình ở MỖI châu lục\n",
        "##------------------------------------------------------------------------------\n",
        "## Viết code:\n",
        "\n"
      ],
      "metadata": {
        "id": "gVhesfOkh0me",
        "colab": {
          "base_uri": "https://localhost:8080/"
        },
        "outputId": "07e30f93-4c7d-4491-d7f8-7a8227d3bf6a"
      },
      "execution_count": null,
      "outputs": [
        {
          "output_type": "execute_result",
          "data": {
            "text/plain": [
              "continent\n",
              "EU    193.777778\n",
              "SA    175.083333\n",
              "OC     89.687500\n",
              "AF     61.471698\n",
              "AS     37.045455\n",
              "Name: beer_servings, dtype: float64"
            ]
          },
          "metadata": {},
          "execution_count": 35
        }
      ]
    },
    {
      "cell_type": "code",
      "source": [
        "##------------------------------------------------------------------------------\n",
        "## Hiển thị mức tiêu thụ BIA trung bình, tối thiểu, tối đa ở MỖI châu lục\n",
        "##------------------------------------------------------------------------------\n",
        "## Viết code:\n",
        "\n"
      ],
      "metadata": {
        "colab": {
          "base_uri": "https://localhost:8080/",
          "height": 238
        },
        "id": "SFL3Ruf_oR7d",
        "outputId": "fa74bfd4-50cf-4625-c120-be0bccaeaa98"
      },
      "execution_count": null,
      "outputs": [
        {
          "output_type": "execute_result",
          "data": {
            "text/plain": [
              "                 mean  min  max\n",
              "continent                      \n",
              "AF          61.471698    0  376\n",
              "AS          37.045455    0  247\n",
              "EU         193.777778    0  361\n",
              "OC          89.687500    0  306\n",
              "SA         175.083333   93  333"
            ],
            "text/html": [
              "\n",
              "  <div id=\"df-7e75788c-f489-4542-b62c-e6a63a9f0008\">\n",
              "    <div class=\"colab-df-container\">\n",
              "      <div>\n",
              "<style scoped>\n",
              "    .dataframe tbody tr th:only-of-type {\n",
              "        vertical-align: middle;\n",
              "    }\n",
              "\n",
              "    .dataframe tbody tr th {\n",
              "        vertical-align: top;\n",
              "    }\n",
              "\n",
              "    .dataframe thead th {\n",
              "        text-align: right;\n",
              "    }\n",
              "</style>\n",
              "<table border=\"1\" class=\"dataframe\">\n",
              "  <thead>\n",
              "    <tr style=\"text-align: right;\">\n",
              "      <th></th>\n",
              "      <th>mean</th>\n",
              "      <th>min</th>\n",
              "      <th>max</th>\n",
              "    </tr>\n",
              "    <tr>\n",
              "      <th>continent</th>\n",
              "      <th></th>\n",
              "      <th></th>\n",
              "      <th></th>\n",
              "    </tr>\n",
              "  </thead>\n",
              "  <tbody>\n",
              "    <tr>\n",
              "      <th>AF</th>\n",
              "      <td>61.471698</td>\n",
              "      <td>0</td>\n",
              "      <td>376</td>\n",
              "    </tr>\n",
              "    <tr>\n",
              "      <th>AS</th>\n",
              "      <td>37.045455</td>\n",
              "      <td>0</td>\n",
              "      <td>247</td>\n",
              "    </tr>\n",
              "    <tr>\n",
              "      <th>EU</th>\n",
              "      <td>193.777778</td>\n",
              "      <td>0</td>\n",
              "      <td>361</td>\n",
              "    </tr>\n",
              "    <tr>\n",
              "      <th>OC</th>\n",
              "      <td>89.687500</td>\n",
              "      <td>0</td>\n",
              "      <td>306</td>\n",
              "    </tr>\n",
              "    <tr>\n",
              "      <th>SA</th>\n",
              "      <td>175.083333</td>\n",
              "      <td>93</td>\n",
              "      <td>333</td>\n",
              "    </tr>\n",
              "  </tbody>\n",
              "</table>\n",
              "</div>\n",
              "      <button class=\"colab-df-convert\" onclick=\"convertToInteractive('df-7e75788c-f489-4542-b62c-e6a63a9f0008')\"\n",
              "              title=\"Convert this dataframe to an interactive table.\"\n",
              "              style=\"display:none;\">\n",
              "        \n",
              "  <svg xmlns=\"http://www.w3.org/2000/svg\" height=\"24px\"viewBox=\"0 0 24 24\"\n",
              "       width=\"24px\">\n",
              "    <path d=\"M0 0h24v24H0V0z\" fill=\"none\"/>\n",
              "    <path d=\"M18.56 5.44l.94 2.06.94-2.06 2.06-.94-2.06-.94-.94-2.06-.94 2.06-2.06.94zm-11 1L8.5 8.5l.94-2.06 2.06-.94-2.06-.94L8.5 2.5l-.94 2.06-2.06.94zm10 10l.94 2.06.94-2.06 2.06-.94-2.06-.94-.94-2.06-.94 2.06-2.06.94z\"/><path d=\"M17.41 7.96l-1.37-1.37c-.4-.4-.92-.59-1.43-.59-.52 0-1.04.2-1.43.59L10.3 9.45l-7.72 7.72c-.78.78-.78 2.05 0 2.83L4 21.41c.39.39.9.59 1.41.59.51 0 1.02-.2 1.41-.59l7.78-7.78 2.81-2.81c.8-.78.8-2.07 0-2.86zM5.41 20L4 18.59l7.72-7.72 1.47 1.35L5.41 20z\"/>\n",
              "  </svg>\n",
              "      </button>\n",
              "      \n",
              "  <style>\n",
              "    .colab-df-container {\n",
              "      display:flex;\n",
              "      flex-wrap:wrap;\n",
              "      gap: 12px;\n",
              "    }\n",
              "\n",
              "    .colab-df-convert {\n",
              "      background-color: #E8F0FE;\n",
              "      border: none;\n",
              "      border-radius: 50%;\n",
              "      cursor: pointer;\n",
              "      display: none;\n",
              "      fill: #1967D2;\n",
              "      height: 32px;\n",
              "      padding: 0 0 0 0;\n",
              "      width: 32px;\n",
              "    }\n",
              "\n",
              "    .colab-df-convert:hover {\n",
              "      background-color: #E2EBFA;\n",
              "      box-shadow: 0px 1px 2px rgba(60, 64, 67, 0.3), 0px 1px 3px 1px rgba(60, 64, 67, 0.15);\n",
              "      fill: #174EA6;\n",
              "    }\n",
              "\n",
              "    [theme=dark] .colab-df-convert {\n",
              "      background-color: #3B4455;\n",
              "      fill: #D2E3FC;\n",
              "    }\n",
              "\n",
              "    [theme=dark] .colab-df-convert:hover {\n",
              "      background-color: #434B5C;\n",
              "      box-shadow: 0px 1px 3px 1px rgba(0, 0, 0, 0.15);\n",
              "      filter: drop-shadow(0px 1px 2px rgba(0, 0, 0, 0.3));\n",
              "      fill: #FFFFFF;\n",
              "    }\n",
              "  </style>\n",
              "\n",
              "      <script>\n",
              "        const buttonEl =\n",
              "          document.querySelector('#df-7e75788c-f489-4542-b62c-e6a63a9f0008 button.colab-df-convert');\n",
              "        buttonEl.style.display =\n",
              "          google.colab.kernel.accessAllowed ? 'block' : 'none';\n",
              "\n",
              "        async function convertToInteractive(key) {\n",
              "          const element = document.querySelector('#df-7e75788c-f489-4542-b62c-e6a63a9f0008');\n",
              "          const dataTable =\n",
              "            await google.colab.kernel.invokeFunction('convertToInteractive',\n",
              "                                                     [key], {});\n",
              "          if (!dataTable) return;\n",
              "\n",
              "          const docLinkHtml = 'Like what you see? Visit the ' +\n",
              "            '<a target=\"_blank\" href=https://colab.research.google.com/notebooks/data_table.ipynb>data table notebook</a>'\n",
              "            + ' to learn more about interactive tables.';\n",
              "          element.innerHTML = '';\n",
              "          dataTable['output_type'] = 'display_data';\n",
              "          await google.colab.output.renderOutput(dataTable, element);\n",
              "          const docLink = document.createElement('div');\n",
              "          docLink.innerHTML = docLinkHtml;\n",
              "          element.appendChild(docLink);\n",
              "        }\n",
              "      </script>\n",
              "    </div>\n",
              "  </div>\n",
              "  "
            ]
          },
          "metadata": {},
          "execution_count": 41
        }
      ]
    },
    {
      "cell_type": "code",
      "source": [
        "##------------------------------------------------------------------------------\n",
        "## Hiển thị những châu lục có mức tiêu thụ BIA trung bình > 100\n",
        "##------------------------------------------------------------------------------\n",
        "## Viết code:\n",
        "\n"
      ],
      "metadata": {
        "colab": {
          "base_uri": "https://localhost:8080/"
        },
        "id": "zNgR-v20pxpw",
        "outputId": "60edfbb8-72fd-494c-9924-9736e7293c91"
      },
      "execution_count": null,
      "outputs": [
        {
          "output_type": "execute_result",
          "data": {
            "text/plain": [
              "continent\n",
              "EU    193.777778\n",
              "SA    175.083333\n",
              "Name: beer_servings, dtype: float64"
            ]
          },
          "metadata": {},
          "execution_count": 49
        }
      ]
    },
    {
      "cell_type": "code",
      "source": [
        "##------------------------------------------------------------------------------\n",
        "## Hiển thị mức tiêu thụ trung bình các loại rượu bia ở MỖI châu lục\n",
        "##------------------------------------------------------------------------------\n",
        "## Viết code:\n",
        "\n"
      ],
      "metadata": {
        "colab": {
          "base_uri": "https://localhost:8080/",
          "height": 238
        },
        "id": "gBrZzrzxm1C9",
        "outputId": "746072ee-3ddd-433b-b19f-0ff429c1cf83"
      },
      "execution_count": null,
      "outputs": [
        {
          "output_type": "execute_result",
          "data": {
            "text/plain": [
              "           Unnamed: 0  beer_servings  spirit_servings  wine_servings  \\\n",
              "continent                                                              \n",
              "AF          93.396226      61.471698        16.339623      16.264151   \n",
              "AS         109.000000      37.045455        60.840909       9.068182   \n",
              "EU          89.377778     193.777778       132.555556     142.222222   \n",
              "OC         117.312500      89.687500        58.437500      35.625000   \n",
              "SA          87.166667     175.083333       114.750000      62.416667   \n",
              "\n",
              "           total_litres_of_pure_alcohol  \n",
              "continent                                \n",
              "AF                             3.007547  \n",
              "AS                             2.170455  \n",
              "EU                             8.617778  \n",
              "OC                             3.381250  \n",
              "SA                             6.308333  "
            ],
            "text/html": [
              "\n",
              "  <div id=\"df-18dfc9c3-76bb-451f-a927-8ecbbd01b067\">\n",
              "    <div class=\"colab-df-container\">\n",
              "      <div>\n",
              "<style scoped>\n",
              "    .dataframe tbody tr th:only-of-type {\n",
              "        vertical-align: middle;\n",
              "    }\n",
              "\n",
              "    .dataframe tbody tr th {\n",
              "        vertical-align: top;\n",
              "    }\n",
              "\n",
              "    .dataframe thead th {\n",
              "        text-align: right;\n",
              "    }\n",
              "</style>\n",
              "<table border=\"1\" class=\"dataframe\">\n",
              "  <thead>\n",
              "    <tr style=\"text-align: right;\">\n",
              "      <th></th>\n",
              "      <th>Unnamed: 0</th>\n",
              "      <th>beer_servings</th>\n",
              "      <th>spirit_servings</th>\n",
              "      <th>wine_servings</th>\n",
              "      <th>total_litres_of_pure_alcohol</th>\n",
              "    </tr>\n",
              "    <tr>\n",
              "      <th>continent</th>\n",
              "      <th></th>\n",
              "      <th></th>\n",
              "      <th></th>\n",
              "      <th></th>\n",
              "      <th></th>\n",
              "    </tr>\n",
              "  </thead>\n",
              "  <tbody>\n",
              "    <tr>\n",
              "      <th>AF</th>\n",
              "      <td>93.396226</td>\n",
              "      <td>61.471698</td>\n",
              "      <td>16.339623</td>\n",
              "      <td>16.264151</td>\n",
              "      <td>3.007547</td>\n",
              "    </tr>\n",
              "    <tr>\n",
              "      <th>AS</th>\n",
              "      <td>109.000000</td>\n",
              "      <td>37.045455</td>\n",
              "      <td>60.840909</td>\n",
              "      <td>9.068182</td>\n",
              "      <td>2.170455</td>\n",
              "    </tr>\n",
              "    <tr>\n",
              "      <th>EU</th>\n",
              "      <td>89.377778</td>\n",
              "      <td>193.777778</td>\n",
              "      <td>132.555556</td>\n",
              "      <td>142.222222</td>\n",
              "      <td>8.617778</td>\n",
              "    </tr>\n",
              "    <tr>\n",
              "      <th>OC</th>\n",
              "      <td>117.312500</td>\n",
              "      <td>89.687500</td>\n",
              "      <td>58.437500</td>\n",
              "      <td>35.625000</td>\n",
              "      <td>3.381250</td>\n",
              "    </tr>\n",
              "    <tr>\n",
              "      <th>SA</th>\n",
              "      <td>87.166667</td>\n",
              "      <td>175.083333</td>\n",
              "      <td>114.750000</td>\n",
              "      <td>62.416667</td>\n",
              "      <td>6.308333</td>\n",
              "    </tr>\n",
              "  </tbody>\n",
              "</table>\n",
              "</div>\n",
              "      <button class=\"colab-df-convert\" onclick=\"convertToInteractive('df-18dfc9c3-76bb-451f-a927-8ecbbd01b067')\"\n",
              "              title=\"Convert this dataframe to an interactive table.\"\n",
              "              style=\"display:none;\">\n",
              "        \n",
              "  <svg xmlns=\"http://www.w3.org/2000/svg\" height=\"24px\"viewBox=\"0 0 24 24\"\n",
              "       width=\"24px\">\n",
              "    <path d=\"M0 0h24v24H0V0z\" fill=\"none\"/>\n",
              "    <path d=\"M18.56 5.44l.94 2.06.94-2.06 2.06-.94-2.06-.94-.94-2.06-.94 2.06-2.06.94zm-11 1L8.5 8.5l.94-2.06 2.06-.94-2.06-.94L8.5 2.5l-.94 2.06-2.06.94zm10 10l.94 2.06.94-2.06 2.06-.94-2.06-.94-.94-2.06-.94 2.06-2.06.94z\"/><path d=\"M17.41 7.96l-1.37-1.37c-.4-.4-.92-.59-1.43-.59-.52 0-1.04.2-1.43.59L10.3 9.45l-7.72 7.72c-.78.78-.78 2.05 0 2.83L4 21.41c.39.39.9.59 1.41.59.51 0 1.02-.2 1.41-.59l7.78-7.78 2.81-2.81c.8-.78.8-2.07 0-2.86zM5.41 20L4 18.59l7.72-7.72 1.47 1.35L5.41 20z\"/>\n",
              "  </svg>\n",
              "      </button>\n",
              "      \n",
              "  <style>\n",
              "    .colab-df-container {\n",
              "      display:flex;\n",
              "      flex-wrap:wrap;\n",
              "      gap: 12px;\n",
              "    }\n",
              "\n",
              "    .colab-df-convert {\n",
              "      background-color: #E8F0FE;\n",
              "      border: none;\n",
              "      border-radius: 50%;\n",
              "      cursor: pointer;\n",
              "      display: none;\n",
              "      fill: #1967D2;\n",
              "      height: 32px;\n",
              "      padding: 0 0 0 0;\n",
              "      width: 32px;\n",
              "    }\n",
              "\n",
              "    .colab-df-convert:hover {\n",
              "      background-color: #E2EBFA;\n",
              "      box-shadow: 0px 1px 2px rgba(60, 64, 67, 0.3), 0px 1px 3px 1px rgba(60, 64, 67, 0.15);\n",
              "      fill: #174EA6;\n",
              "    }\n",
              "\n",
              "    [theme=dark] .colab-df-convert {\n",
              "      background-color: #3B4455;\n",
              "      fill: #D2E3FC;\n",
              "    }\n",
              "\n",
              "    [theme=dark] .colab-df-convert:hover {\n",
              "      background-color: #434B5C;\n",
              "      box-shadow: 0px 1px 3px 1px rgba(0, 0, 0, 0.15);\n",
              "      filter: drop-shadow(0px 1px 2px rgba(0, 0, 0, 0.3));\n",
              "      fill: #FFFFFF;\n",
              "    }\n",
              "  </style>\n",
              "\n",
              "      <script>\n",
              "        const buttonEl =\n",
              "          document.querySelector('#df-18dfc9c3-76bb-451f-a927-8ecbbd01b067 button.colab-df-convert');\n",
              "        buttonEl.style.display =\n",
              "          google.colab.kernel.accessAllowed ? 'block' : 'none';\n",
              "\n",
              "        async function convertToInteractive(key) {\n",
              "          const element = document.querySelector('#df-18dfc9c3-76bb-451f-a927-8ecbbd01b067');\n",
              "          const dataTable =\n",
              "            await google.colab.kernel.invokeFunction('convertToInteractive',\n",
              "                                                     [key], {});\n",
              "          if (!dataTable) return;\n",
              "\n",
              "          const docLinkHtml = 'Like what you see? Visit the ' +\n",
              "            '<a target=\"_blank\" href=https://colab.research.google.com/notebooks/data_table.ipynb>data table notebook</a>'\n",
              "            + ' to learn more about interactive tables.';\n",
              "          element.innerHTML = '';\n",
              "          dataTable['output_type'] = 'display_data';\n",
              "          await google.colab.output.renderOutput(dataTable, element);\n",
              "          const docLink = document.createElement('div');\n",
              "          docLink.innerHTML = docLinkHtml;\n",
              "          element.appendChild(docLink);\n",
              "        }\n",
              "      </script>\n",
              "    </div>\n",
              "  </div>\n",
              "  "
            ]
          },
          "metadata": {},
          "execution_count": 38
        }
      ]
    },
    {
      "cell_type": "code",
      "source": [
        "##------------------------------------------------------------------------------\n",
        "## Hiển thị thông tin thống kê tổng quát lượng rượu vang tiêu thụ ở mỗi châu lục\n",
        "##------------------------------------------------------------------------------\n",
        "## Viết code:\n",
        "\n"
      ],
      "metadata": {
        "id": "RpWbEbGAh0h8",
        "colab": {
          "base_uri": "https://localhost:8080/",
          "height": 238
        },
        "outputId": "3fe3b235-caec-4c5a-e21f-4e2308bd9ddf"
      },
      "execution_count": null,
      "outputs": [
        {
          "output_type": "execute_result",
          "data": {
            "text/plain": [
              "           count        mean        std  min   25%    50%     75%    max\n",
              "continent                                                               \n",
              "AF          53.0   16.264151  38.846419  0.0   1.0    2.0   13.00  233.0\n",
              "AS          44.0    9.068182  21.667034  0.0   0.0    1.0    8.00  123.0\n",
              "EU          45.0  142.222222  97.421738  0.0  59.0  128.0  195.00  370.0\n",
              "OC          16.0   35.625000  64.555790  0.0   1.0    8.5   23.25  212.0\n",
              "SA          12.0   62.416667  88.620189  1.0   3.0   12.0   98.50  221.0"
            ],
            "text/html": [
              "\n",
              "  <div id=\"df-f952a65b-917f-434c-9636-e899dc41a2f1\">\n",
              "    <div class=\"colab-df-container\">\n",
              "      <div>\n",
              "<style scoped>\n",
              "    .dataframe tbody tr th:only-of-type {\n",
              "        vertical-align: middle;\n",
              "    }\n",
              "\n",
              "    .dataframe tbody tr th {\n",
              "        vertical-align: top;\n",
              "    }\n",
              "\n",
              "    .dataframe thead th {\n",
              "        text-align: right;\n",
              "    }\n",
              "</style>\n",
              "<table border=\"1\" class=\"dataframe\">\n",
              "  <thead>\n",
              "    <tr style=\"text-align: right;\">\n",
              "      <th></th>\n",
              "      <th>count</th>\n",
              "      <th>mean</th>\n",
              "      <th>std</th>\n",
              "      <th>min</th>\n",
              "      <th>25%</th>\n",
              "      <th>50%</th>\n",
              "      <th>75%</th>\n",
              "      <th>max</th>\n",
              "    </tr>\n",
              "    <tr>\n",
              "      <th>continent</th>\n",
              "      <th></th>\n",
              "      <th></th>\n",
              "      <th></th>\n",
              "      <th></th>\n",
              "      <th></th>\n",
              "      <th></th>\n",
              "      <th></th>\n",
              "      <th></th>\n",
              "    </tr>\n",
              "  </thead>\n",
              "  <tbody>\n",
              "    <tr>\n",
              "      <th>AF</th>\n",
              "      <td>53.0</td>\n",
              "      <td>16.264151</td>\n",
              "      <td>38.846419</td>\n",
              "      <td>0.0</td>\n",
              "      <td>1.0</td>\n",
              "      <td>2.0</td>\n",
              "      <td>13.00</td>\n",
              "      <td>233.0</td>\n",
              "    </tr>\n",
              "    <tr>\n",
              "      <th>AS</th>\n",
              "      <td>44.0</td>\n",
              "      <td>9.068182</td>\n",
              "      <td>21.667034</td>\n",
              "      <td>0.0</td>\n",
              "      <td>0.0</td>\n",
              "      <td>1.0</td>\n",
              "      <td>8.00</td>\n",
              "      <td>123.0</td>\n",
              "    </tr>\n",
              "    <tr>\n",
              "      <th>EU</th>\n",
              "      <td>45.0</td>\n",
              "      <td>142.222222</td>\n",
              "      <td>97.421738</td>\n",
              "      <td>0.0</td>\n",
              "      <td>59.0</td>\n",
              "      <td>128.0</td>\n",
              "      <td>195.00</td>\n",
              "      <td>370.0</td>\n",
              "    </tr>\n",
              "    <tr>\n",
              "      <th>OC</th>\n",
              "      <td>16.0</td>\n",
              "      <td>35.625000</td>\n",
              "      <td>64.555790</td>\n",
              "      <td>0.0</td>\n",
              "      <td>1.0</td>\n",
              "      <td>8.5</td>\n",
              "      <td>23.25</td>\n",
              "      <td>212.0</td>\n",
              "    </tr>\n",
              "    <tr>\n",
              "      <th>SA</th>\n",
              "      <td>12.0</td>\n",
              "      <td>62.416667</td>\n",
              "      <td>88.620189</td>\n",
              "      <td>1.0</td>\n",
              "      <td>3.0</td>\n",
              "      <td>12.0</td>\n",
              "      <td>98.50</td>\n",
              "      <td>221.0</td>\n",
              "    </tr>\n",
              "  </tbody>\n",
              "</table>\n",
              "</div>\n",
              "      <button class=\"colab-df-convert\" onclick=\"convertToInteractive('df-f952a65b-917f-434c-9636-e899dc41a2f1')\"\n",
              "              title=\"Convert this dataframe to an interactive table.\"\n",
              "              style=\"display:none;\">\n",
              "        \n",
              "  <svg xmlns=\"http://www.w3.org/2000/svg\" height=\"24px\"viewBox=\"0 0 24 24\"\n",
              "       width=\"24px\">\n",
              "    <path d=\"M0 0h24v24H0V0z\" fill=\"none\"/>\n",
              "    <path d=\"M18.56 5.44l.94 2.06.94-2.06 2.06-.94-2.06-.94-.94-2.06-.94 2.06-2.06.94zm-11 1L8.5 8.5l.94-2.06 2.06-.94-2.06-.94L8.5 2.5l-.94 2.06-2.06.94zm10 10l.94 2.06.94-2.06 2.06-.94-2.06-.94-.94-2.06-.94 2.06-2.06.94z\"/><path d=\"M17.41 7.96l-1.37-1.37c-.4-.4-.92-.59-1.43-.59-.52 0-1.04.2-1.43.59L10.3 9.45l-7.72 7.72c-.78.78-.78 2.05 0 2.83L4 21.41c.39.39.9.59 1.41.59.51 0 1.02-.2 1.41-.59l7.78-7.78 2.81-2.81c.8-.78.8-2.07 0-2.86zM5.41 20L4 18.59l7.72-7.72 1.47 1.35L5.41 20z\"/>\n",
              "  </svg>\n",
              "      </button>\n",
              "      \n",
              "  <style>\n",
              "    .colab-df-container {\n",
              "      display:flex;\n",
              "      flex-wrap:wrap;\n",
              "      gap: 12px;\n",
              "    }\n",
              "\n",
              "    .colab-df-convert {\n",
              "      background-color: #E8F0FE;\n",
              "      border: none;\n",
              "      border-radius: 50%;\n",
              "      cursor: pointer;\n",
              "      display: none;\n",
              "      fill: #1967D2;\n",
              "      height: 32px;\n",
              "      padding: 0 0 0 0;\n",
              "      width: 32px;\n",
              "    }\n",
              "\n",
              "    .colab-df-convert:hover {\n",
              "      background-color: #E2EBFA;\n",
              "      box-shadow: 0px 1px 2px rgba(60, 64, 67, 0.3), 0px 1px 3px 1px rgba(60, 64, 67, 0.15);\n",
              "      fill: #174EA6;\n",
              "    }\n",
              "\n",
              "    [theme=dark] .colab-df-convert {\n",
              "      background-color: #3B4455;\n",
              "      fill: #D2E3FC;\n",
              "    }\n",
              "\n",
              "    [theme=dark] .colab-df-convert:hover {\n",
              "      background-color: #434B5C;\n",
              "      box-shadow: 0px 1px 3px 1px rgba(0, 0, 0, 0.15);\n",
              "      filter: drop-shadow(0px 1px 2px rgba(0, 0, 0, 0.3));\n",
              "      fill: #FFFFFF;\n",
              "    }\n",
              "  </style>\n",
              "\n",
              "      <script>\n",
              "        const buttonEl =\n",
              "          document.querySelector('#df-f952a65b-917f-434c-9636-e899dc41a2f1 button.colab-df-convert');\n",
              "        buttonEl.style.display =\n",
              "          google.colab.kernel.accessAllowed ? 'block' : 'none';\n",
              "\n",
              "        async function convertToInteractive(key) {\n",
              "          const element = document.querySelector('#df-f952a65b-917f-434c-9636-e899dc41a2f1');\n",
              "          const dataTable =\n",
              "            await google.colab.kernel.invokeFunction('convertToInteractive',\n",
              "                                                     [key], {});\n",
              "          if (!dataTable) return;\n",
              "\n",
              "          const docLinkHtml = 'Like what you see? Visit the ' +\n",
              "            '<a target=\"_blank\" href=https://colab.research.google.com/notebooks/data_table.ipynb>data table notebook</a>'\n",
              "            + ' to learn more about interactive tables.';\n",
              "          element.innerHTML = '';\n",
              "          dataTable['output_type'] = 'display_data';\n",
              "          await google.colab.output.renderOutput(dataTable, element);\n",
              "          const docLink = document.createElement('div');\n",
              "          docLink.innerHTML = docLinkHtml;\n",
              "          element.appendChild(docLink);\n",
              "        }\n",
              "      </script>\n",
              "    </div>\n",
              "  </div>\n",
              "  "
            ]
          },
          "metadata": {},
          "execution_count": 39
        }
      ]
    }
  ],
  "metadata": {
    "colab": {
      "provenance": [],
      "include_colab_link": true
    },
    "kernelspec": {
      "display_name": "Python 3",
      "language": "python",
      "name": "python3"
    },
    "language_info": {
      "codemirror_mode": {
        "name": "ipython",
        "version": 3
      },
      "file_extension": ".py",
      "mimetype": "text/x-python",
      "name": "python",
      "nbconvert_exporter": "python",
      "pygments_lexer": "ipython3",
      "version": "3.8.0"
    }
  },
  "nbformat": 4,
  "nbformat_minor": 0
}